{
 "cells": [
  {
   "cell_type": "code",
   "execution_count": 1,
   "metadata": {
    "collapsed": false
   },
   "outputs": [
    {
     "name": "stdout",
     "output_type": "stream",
     "text": [
      "Populating the interactive namespace from numpy and matplotlib\n"
     ]
    },
    {
     "name": "stderr",
     "output_type": "stream",
     "text": [
      "Using TensorFlow backend.\n"
     ]
    }
   ],
   "source": [
    "%pylab inline\n",
    "\n",
    "import os\n",
    "import scipy.io\n",
    "import numpy as np\n",
    "from keras.models import Sequential\n",
    "from keras.layers import Convolution2D, Dense, Dropout, Flatten, MaxPooling2D\n",
    "from keras.utils import np_utils\n",
    "from keras.optimizers import Adam\n",
    "from keras.models import load_model\n",
    "\n",
    "\n"
   ]
  },
  {
   "cell_type": "code",
   "execution_count": 2,
   "metadata": {
    "collapsed": false
   },
   "outputs": [],
   "source": [
    "######################### load file - data ####################\n",
    "\n",
    "#Go to the data directory \n",
    "os.chdir('C:\\Liliana')\n",
    "load_data = scipy.io.loadmat('Calcium_signalling_decisions_1000cells.mat')\n",
    "\n"
   ]
  },
  {
   "cell_type": "code",
   "execution_count": 3,
   "metadata": {
    "collapsed": false
   },
   "outputs": [
    {
     "name": "stdout",
     "output_type": "stream",
     "text": [
      "1000\n",
      "900\n"
     ]
    }
   ],
   "source": [
    "#Define variables \n",
    "total = len(load_data['cell_classified'][0])\n",
    "print(total)\n",
    "Int_profile_len = len(load_data['cell_classified'][0,0]['intensity'][0])\n",
    "print(Int_profile_len)"
   ]
  },
  {
   "cell_type": "code",
   "execution_count": 4,
   "metadata": {
    "collapsed": false
   },
   "outputs": [
    {
     "name": "stdout",
     "output_type": "stream",
     "text": [
      "(1000, 900)\n"
     ]
    }
   ],
   "source": [
    "#Matrix for intensity values\n",
    "data = np.zeros((total,Int_profile_len))\n",
    "print(data.shape)\n",
    "for i in range(0,Int_profile_len):\n",
    "    data[i,:] = load_data['cell_classified'][0,i]['intensity']\n",
    "\n"
   ]
  },
  {
   "cell_type": "code",
   "execution_count": 5,
   "metadata": {
    "collapsed": false
   },
   "outputs": [
    {
     "name": "stdout",
     "output_type": "stream",
     "text": [
      "(1000,)\n"
     ]
    }
   ],
   "source": [
    "#Array for the classes \n",
    "classes = load_data['cell_classified'][0]['decision'].astype(int)\n",
    "print(classes.shape)"
   ]
  },
  {
   "cell_type": "code",
   "execution_count": 6,
   "metadata": {
    "collapsed": false
   },
   "outputs": [
    {
     "name": "stdout",
     "output_type": "stream",
     "text": [
      "(990, 900)\n",
      "(990,)\n"
     ]
    },
    {
     "data": {
      "text/plain": [
       "[<matplotlib.lines.Line2D at 0x13e98ae5470>]"
      ]
     },
     "execution_count": 6,
     "metadata": {},
     "output_type": "execute_result"
    },
    {
     "data": {
      "image/png": "[encoded data removed]",
      "text/plain": [
       "<matplotlib.figure.Figure at 0x13e98a207b8>"
      ]
     },
     "metadata": {},
     "output_type": "display_data"
    }
   ],
   "source": [
    "#Elimate intensity profiles with NaN values and corresponding classes\n",
    "nan_indices = np.where(np.isnan(data))\n",
    "\n",
    "data = np.delete(data,nan_indices[0], axis = 0)\n",
    "classes = np.delete(classes,nan_indices[0], axis = 0)\n",
    "\n",
    "print(data.shape)\n",
    "print(classes.shape)\n",
    "\n",
    "#Redefine the total number of data\n",
    "total = len(data)\n",
    "\n",
    "\n",
    "plot(data[6])"
   ]
  },
  {
   "cell_type": "code",
   "execution_count": 7,
   "metadata": {
    "collapsed": false
   },
   "outputs": [
    {
     "data": {
      "text/plain": [
       "'### SCALE THE INTENSITY VALUES\\ndata_scaled = np.zeros((total,Int_profile_len))\\nfor i in range(total):\\n    data_scaled[i,:] = (data[i,:] - np.mean(data[i,:]))\\n    data_scaled[i,:] = data_scaled[i,:]/np.std(data_scaled[i,:])\\n\\nplot(data_scaled[6])'"
      ]
     },
     "execution_count": 7,
     "metadata": {},
     "output_type": "execute_result"
    }
   ],
   "source": [
    "\"\"\"### SCALE THE INTENSITY VALUES\n",
    "data_scaled = np.zeros((total,Int_profile_len))\n",
    "for i in range(total):\n",
    "    data_scaled[i,:] = (data[i,:] - np.mean(data[i,:]))\n",
    "    data_scaled[i,:] = data_scaled[i,:]/np.std(data_scaled[i,:])\n",
    "\n",
    "plot(data_scaled[6])\"\"\" #GOT NAN"
   ]
  },
  {
   "cell_type": "code",
   "execution_count": 8,
   "metadata": {
    "collapsed": false
   },
   "outputs": [
    {
     "name": "stdout",
     "output_type": "stream",
     "text": [
      "data shape (990, 256)\n"
     ]
    },
    {
     "data": {
      "text/plain": [
       "[<matplotlib.lines.Line2D at 0x13e98ee6c50>]"
      ]
     },
     "execution_count": 8,
     "metadata": {},
     "output_type": "execute_result"
    },
    {
     "data": {
      "image/png": "[encoded data removed]",
      "text/plain": [
       "<matplotlib.figure.Figure at 0x13e98a204e0>"
      ]
     },
     "metadata": {},
     "output_type": "display_data"
    }
   ],
   "source": [
    "### Downsampling\n",
    "data1 = data[:,0:768]\n",
    "\n",
    "step = 3\n",
    "data_downsampl = data1[:,::step]\n",
    "print('data shape', data_downsampl.shape)\n",
    "\n",
    "#Redefine len of the Intensity curves:\n",
    "Int_profile_len = len(data_downsampl[0])\n",
    "\n",
    "plot(data_downsampl[6])"
   ]
  },
  {
   "cell_type": "code",
   "execution_count": 9,
   "metadata": {
    "collapsed": false
   },
   "outputs": [
    {
     "name": "stdout",
     "output_type": "stream",
     "text": [
      "total 990\n",
      "(990,)\n",
      "(990,)\n",
      "(990, 256)\n"
     ]
    }
   ],
   "source": [
    "#Distribute all values randomly\n",
    "print('total',total)\n",
    "randseq = np.random.choice(np.arange(0,total),total,replace=False)\n",
    "\n",
    "print(randseq.shape)\n",
    "#Data randomly organized\n",
    "data_downsampl = data_downsampl[randseq,:]\n",
    "classes = classes[randseq]\n",
    "\n",
    "print(classes.shape)\n",
    "print(data_downsampl.shape)\n"
   ]
  },
  {
   "cell_type": "code",
   "execution_count": 10,
   "metadata": {
    "collapsed": false
   },
   "outputs": [
    {
     "name": "stdout",
     "output_type": "stream",
     "text": [
      "shape y (800,)\n",
      "train_dt shape (800, 256)\n",
      "N of training data 800\n",
      "len intensity 256\n",
      "[[ 0.  1.  0.  0.  0.  0.]\n",
      " [ 0.  1.  0.  0.  0.  0.]\n",
      " [ 0.  1.  0.  0.  0.  0.]\n",
      " ..., \n",
      " [ 0.  1.  0.  0.  0.  0.]\n",
      " [ 0.  0.  1.  0.  0.  0.]\n",
      " [ 0.  0.  0.  0.  1.  0.]]\n"
     ]
    }
   ],
   "source": [
    "######################### load file - training data ####################\n",
    "\n",
    "train_dt = data_downsampl[0:800,:]\n",
    "train_cl = classes[0:800]\n",
    "\n",
    "X = train_dt#np.random.rand(10000, 128).astype(\"float32\")\n",
    "y = train_cl #np.random.randint(3, size=(10000,1))\n",
    "\n",
    "print('shape y', y.shape)\n",
    "print('train_dt shape', train_dt.shape)\n",
    "\n",
    "N_train_cell = len(train_dt)\n",
    "\n",
    "print('N of training data', N_train_cell)\n",
    "print('len intensity', Int_profile_len)\n",
    "\n",
    "# process the data to fit in a keras CNN properly\n",
    "# input data needs to be (N, C, X, Y) - shaped where\n",
    "# N - number of samples\n",
    "# C - number of channels per sample\n",
    "# (X, Y) - sample size\n",
    "\n",
    "\n",
    "X = X.reshape((N_train_cell, Int_profile_len,1, 1))\n",
    "y = np_utils.to_categorical(y)\n",
    "\n",
    "print(y)\n"
   ]
  },
  {
   "cell_type": "code",
   "execution_count": 11,
   "metadata": {
    "collapsed": false
   },
   "outputs": [
    {
     "name": "stdout",
     "output_type": "stream",
     "text": [
      "N_test_cell = 190\n",
      "(190, 256)\n",
      "(190,)\n"
     ]
    }
   ],
   "source": [
    "######################### load file - testing data ####################\n",
    "\n",
    "#Define variables \n",
    "N_test_cell = total - N_train_cell\n",
    "\n",
    "\n",
    "print('N_test_cell =', N_test_cell)\n",
    "\n",
    "\n",
    "#Matrix for intensity values\n",
    "test_dt = np.zeros((N_test_cell,Int_profile_len))\n",
    "\n",
    "#Use as testing data the last N_test_cell values within the total \n",
    "test_dt[:,:]= data_downsampl[N_train_cell:total]\n",
    "\n",
    "#Same process for the associated classes\n",
    "test_cl = classes[N_train_cell:total]\n",
    "\n",
    "\n",
    "print(test_dt.shape)\n",
    "print(test_cl.shape)\n"
   ]
  },
  {
   "cell_type": "code",
   "execution_count": 29,
   "metadata": {
    "collapsed": false
   },
   "outputs": [],
   "source": [
    "# define a CNN\n",
    "# see http://keras.io for API reference\n",
    "\n",
    "def CNN():\n",
    "    cnn = Sequential()\n",
    "    cnn.add(Convolution2D(64, (3, 1),activation=\"relu\",input_shape=(Int_profile_len,1, 1),padding=\"same\"))\n",
    "    cnn.add(Convolution2D(64, (3, 1), activation=\"relu\", padding=\"same\"))\n",
    "    cnn.add(MaxPooling2D(pool_size=(2,1)))\n",
    "\n",
    "    #border_mode = same => output size is the same of input size. The filter does not go outside the bounds of the input\n",
    "    #ReLU => thresholding at zero. All the negative values will be = 0, values bigger than zero will mantain the same value.\n",
    "    cnn.add(Convolution2D(128, (3, 1), activation=\"relu\", padding=\"same\"))\n",
    "    cnn.add(Convolution2D(128, (3, 1), activation=\"relu\", padding=\"same\"))\n",
    "    cnn.add(Convolution2D(128, (3, 1), activation=\"relu\", padding=\"same\"))\n",
    "    cnn.add(MaxPooling2D(pool_size=(2,1)))\n",
    "\n",
    "    cnn.add(Convolution2D(256, (3, 1), activation=\"relu\", padding=\"same\"))\n",
    "    cnn.add(Convolution2D(256, (3, 1), activation=\"relu\", padding=\"same\"))\n",
    "    cnn.add(Convolution2D(256, (3, 1), activation=\"relu\", padding=\"same\"))\n",
    "    cnn.add(MaxPooling2D(pool_size=(2,1)))\n",
    "\n",
    "    cnn.add(Flatten())\n",
    "    cnn.add(Dense(1024, activation=\"relu\"))\n",
    "    cnn.add(Dropout(0.5)) \n",
    "    cnn.add(Dense(6, activation=\"softmax\"))\n",
    "\n",
    "    # define optimizer and objective, compile cnn\n",
    "\n",
    "    cnn.compile(loss=\"categorical_crossentropy\", optimizer=Adam(lr=0.0001, beta_1=0.9, beta_2=0.999, epsilon=1e-08, decay=0.0))\n",
    "    #default parameters coming from the paper: https://arxiv.org/abs/1412.6980v8\n",
    "    \n",
    "    #train\n",
    "    cnn.fit(X, y, epochs=2, verbose = 2)\n",
    "    \n",
    "    #Evaluation code which makes prediction\n",
    "    out = cnn.predict(test_dt.reshape((N_test_cell, Int_profile_len,1, 1)))\n",
    "    \n",
    "    #keras.callbacks.ModelCheckpoint(filepath, monitor='val_loss', verbose=0, save_best_only=False, save_weights_only=False, mode='auto', period=1)\n",
    "    from keras.models import load_model\n",
    "\n",
    "    cnn.save('30_05_2017.h5')\n",
    "    return out"
   ]
  },
  {
   "cell_type": "code",
   "execution_count": 30,
   "metadata": {
    "collapsed": false,
    "scrolled": false
   },
   "outputs": [
    {
     "name": "stdout",
     "output_type": "stream",
     "text": [
      "0\n",
      "Epoch 1/2\n",
      "27s - loss: 1.4532\n",
      "Epoch 2/2\n",
      "24s - loss: 1.1065\n",
      "[ 55.78947368]\n"
     ]
    }
   ],
   "source": [
    "iterations = 1\n",
    "confidence_array = np.zeros(iterations)\n",
    "for i in range(iterations):\n",
    "    print(i)\n",
    "    out = CNN()\n",
    "    confidence_array[i] = (float(np.sum(np.argmax(out,1)==test_cl))/float(test_cl.shape[0])*100.0)\n",
    "\n",
    "\n",
    "\n",
    "print(confidence_array)    "
   ]
  },
  {
   "cell_type": "code",
   "execution_count": 19,
   "metadata": {
    "collapsed": false
   },
   "outputs": [
    {
     "name": "stdout",
     "output_type": "stream",
     "text": [
      "Populating the interactive namespace from numpy and matplotlib\n",
      "[ 0.00817633  0.4283075   0.30634576  0.01404301  0.23092669  0.01220067]\n",
      "1\n"
     ]
    }
   ],
   "source": [
    "%pylab inline\n",
    "print(out[0])\n",
    "print(test_cl[0])\n",
    "\n",
    "#print(float(np.sum(np.argmax(out,1)==test_cl))/float(test_cl.shape[0])*100.0)"
   ]
  },
  {
   "cell_type": "code",
   "execution_count": null,
   "metadata": {
    "collapsed": false
   },
   "outputs": [],
   "source": [
    "# Create plots with pre-defined labels.\n",
    "fig, ax = plt.subplots()\n",
    "for i in range(0,4):\n",
    "    if test_cl[i] == 1:\n",
    "        ax.plot(test_dt[i,:], label='Trig+Sing')\n",
    "    if test_cl[i] == 2:\n",
    "        ax.plot(test_dt[i,:], label='Trig+Osc')\n",
    "    if test_cl[i] == 3:\n",
    "        ax.plot(test_dt[i,:], label='Trig+Sust')\n",
    "    if test_cl[i] == 4:\n",
    "        ax.plot(test_dt[i,:], label='No-Trig')\n",
    "    if test_cl[i] == 5:\n",
    "        ax.plot(test_dt[i,:], label='Not Sure')\n",
    "    legend = plt.legend(loc='upper right', shadow=True, fontsize='x-large')\n"
   ]
  },
  {
   "cell_type": "code",
   "execution_count": null,
   "metadata": {
    "collapsed": true
   },
   "outputs": [],
   "source": [
    "\"\"\"    if test_cl[i] == 1:\n",
    "        ax.plot(test_dt[i,:], 'b', label='Trig+Sing')\n",
    "    if test_cl[i] == 2:\n",
    "        ax.plot(test_dt[i,:], 'r', label='Trig+Osc')\n",
    "    if test_cl[i] == 3:\n",
    "        ax.plot(test_dt[i,:], 'c', label='Trig+Sust')\n",
    "    if test_cl[i] == 4:\n",
    "        ax.plot(test_dt[i,:], 'm', label='No-Trig')\n",
    "    if test_cl[i] == 5:\n",
    "        ax.plot(test_dt[i,:], 'y', label='Not Sure')\"\"\""
   ]
  },
  {
   "cell_type": "code",
   "execution_count": null,
   "metadata": {
    "collapsed": false
   },
   "outputs": [],
   "source": [
    "plot(out[:40,0])\n",
    "plot(out[:40,1])\n",
    "plot(out[:40,2])"
   ]
  },
  {
   "cell_type": "code",
   "execution_count": 31,
   "metadata": {
    "collapsed": false
   },
   "outputs": [
    {
     "ename": "NameError",
     "evalue": "name 'model' is not defined",
     "output_type": "error",
     "traceback": [
      "\u001b[0;31m---------------------------------------------------------------------------\u001b[0m",
      "\u001b[0;31mNameError\u001b[0m                                 Traceback (most recent call last)",
      "\u001b[0;32m<ipython-input-31-1818eab00a81>\u001b[0m in \u001b[0;36m<module>\u001b[0;34m()\u001b[0m\n\u001b[0;32m----> 1\u001b[0;31m \u001b[0mmodel\u001b[0m\u001b[1;33m.\u001b[0m\u001b[0mload_weights\u001b[0m\u001b[1;33m(\u001b[0m\u001b[1;34m'my_model_weights.h5'\u001b[0m\u001b[1;33m)\u001b[0m\u001b[1;33m\u001b[0m\u001b[0m\n\u001b[0m",
      "\u001b[0;31mNameError\u001b[0m: name 'model' is not defined"
     ]
    }
   ],
   "source": [
    "model.load_weights('my_model_weights.h5')"
   ]
  }
 ],
 "metadata": {
  "kernelspec": {
   "display_name": "Python 3",
   "language": "python",
   "name": "python3"
  },
  "language_info": {
   "codemirror_mode": {
    "name": "ipython",
    "version": 3
   },
   "file_extension": ".py",
   "mimetype": "text/x-python",
   "name": "python",
   "nbconvert_exporter": "python",
   "pygments_lexer": "ipython3",
   "version": "3.6.0"
  }
 },
 "nbformat": 4,
 "nbformat_minor": 2
}
